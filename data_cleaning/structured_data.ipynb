{
 "cells": [
  {
   "cell_type": "markdown",
   "metadata": {},
   "source": [
    "# Transforming Unstructured Text into Structured Data \n",
    "Online supplementary material to \"The Evolution of Work in the United States\" by Enghin Atalay, Phai Phongthiengtham, Sebastian Sotelo and Daniel Tannenbaum. \n",
    "\n",
    "* [Project data library](https://occupationdata.github.io) \n",
    "\n",
    "* [GitHub repository](https://github.com/phaiptt125/newspaper_project)\n",
    "\n",
    "***"
   ]
  },
  {
   "cell_type": "markdown",
   "metadata": {},
   "source": [
    "This IPython notebook demonstrates how we finally transform unstructured newspaper text into structured data (spreadsheet). In the previous steps, we:\n",
    "\n",
    "* Retrieve document metadata, remove markup from the newspaper text, and perform an initial spell-check of the text (see [here](https://github.com/phaiptt125/newspaper_project/blob/master/data_cleaning/initial_cleaning.ipynb)). \n",
    "* Exclude non-job ad pages (see [here](https://github.com/phaiptt125/newspaper_project/blob/master/data_cleaning/LDA.ipynb)).\n",
    "\n",
    "The main components of this step are to identify the job title, discern the boundaries between job ads, and transform relevant information into structured data. \n",
    "\n"
   ]
  },
  {
   "cell_type": "markdown",
   "metadata": {},
   "source": [
    "<b> Due to copyright restrictions, we are not authorized to publish a large body of newspaper text. </b>\n",
    "***"
   ]
  },
  {
   "cell_type": "markdown",
   "metadata": {},
   "source": [
    "### List of auxiliary files (see project data library or GitHub repository)\n",
    "* *title_detection.py* : This python code detects job titles. \n",
    "* *detect_ending.py* : This python code detects ending patterns of ads.\n",
    "* *TitleBase.txt* : A list of job title words "
   ]
  },
  {
   "cell_type": "markdown",
   "metadata": {},
   "source": [
    "***\n",
    "## Import necessary modules"
   ]
  },
  {
   "cell_type": "code",
   "execution_count": 1,
   "metadata": {
    "collapsed": true
   },
   "outputs": [],
   "source": [
    "import os\n",
    "import re\n",
    "import sys\n",
    "import pandas as pd\n",
    "\n",
    "import nltk\n",
    "from nltk.corpus import stopwords\n",
    "from nltk.tokenize import word_tokenize\n",
    "from nltk.stem.snowball import SnowballStemmer\n",
    " \n",
    "stop_words = set(stopwords.words('english'))\n",
    "stemmer = SnowballStemmer(\"english\")\n",
    "\n",
    "sys.path.append('./auxiliary files')\n",
    "\n",
    "from title_detection import *\n",
    "from detect_ending import *"
   ]
  },
  {
   "cell_type": "markdown",
   "metadata": {
    "collapsed": true
   },
   "source": [
    "## Import job ad pages\n",
    "\n",
    "We present an example describing how our procedure identifies job ads' boundaries and their job titles on a snippet of Display Ad page 226, from the January 14, 1979 Boston Globe (page identifer: \"Globe_displayad_19790114_226\"). "
   ]
  },
  {
   "cell_type": "markdown",
   "metadata": {},
   "source": [
    "* The text file has already been cleaned by retrieving document metadata, removing markup from the newspaper text, and correcting spelling errors of the text (see [here](https://github.com/phaiptt125/newspaper_project/blob/master/data_cleaning/initial_cleaning.ipynb) for detail). \n",
    "* We have already classified this page to be related to job ads (see [here](https://github.com/phaiptt125/newspaper_project/blob/master/data_cleaning/LDA.ipynb) for detail)."
   ]
  },
  {
   "cell_type": "code",
   "execution_count": 2,
   "metadata": {},
   "outputs": [
    {
     "name": "stdout",
     "output_type": "stream",
     "text": [
      "MEDICAL HELP\n",
      "NUCLEAR\n",
      "RADIOLOGIC TECH\n",
      "full time day po ition is available for registred or registry technician in our Nuclear Medicine department This position does require taking call\n",
      "CHEST\n",
      "PHYSICAL THERAPIST\n",
      "If you are or registry eligible\n",
      "Physical Trhrapist interested in Chest\n",
      "Therapy consider the New England Baptist Hospital Responsibilities will include providng chest therapy for Medical Surgical patients family teaching interdisciplinary inservice programs and more\n",
      "For more information please contact our Personnel department 738-5800 , Ext 255 . An Equal Opportunity Employer\n",
      "41 Pa HII Boston\n",
      "MANAGER OF\n",
      "PRIMARY CARE PROGRAMS\n",
      "Children's Hospital Medical Center\n",
      "seeks dynamic creative individual to manage its Primary Care Programs including 24-hour Emergency Room Primary Care program the Massachusetts Poison information Center and\n",
      "Dental services This position requires 3-5 years experience with background in planning budgeting and managing\n",
      "health programs Masters degree preferred but additional experience may be substituted We offer salary commensurate\n",
      "with experience and fine fringe benefits package\n",
      "please forward resumes to Helena Wallace personnel office\n",
      "MEDICAL\n",
      "300 Lonjwood Avenue\n",
      "MA 0211\n",
      "REGISTERED\n",
      "REGISTRY ELIGIBLE OR\n",
      "immi ate available in our modern well- and fu ly accredited 173-bed general hospital Cheshire Hospilal is 80 miles from Boston and near skiing water sports hunting and fishing\n",
      "Apphcants must be registered registry eligible or NERT For further information please contact the Personrel department\n",
      "Cheshire Hospital\n",
      "580 Court Street Keene NH 03431\n"
     ]
    }
   ],
   "source": [
    "text = open('Snippet_Globe_displayad_19790114_226.txt').read()\n",
    "page_identifier = 'Globe_displayad_19790114_226'\n",
    "print(text) # posting text"
   ]
  },
  {
   "cell_type": "markdown",
   "metadata": {
    "collapsed": true
   },
   "source": [
    "## Reset line breaks\n",
    "First, we combine short, uppercased and consecutive lines together so that we can detect, for instance, \"MANAGER OF PRIMARY CARE PROGRAMS\" when we have two lines of \"MANAGER OF\" and \"PRIMARY CARE PROGRAMS\" .  "
   ]
  },
  {
   "cell_type": "code",
   "execution_count": 3,
   "metadata": {
    "collapsed": true
   },
   "outputs": [],
   "source": [
    "# remove emypty lines\n",
    "text_by_line = [w for w in re.split('\\n',text) if not w=='']\n",
    "\n",
    "# reset lines (see title_detection.py)\n",
    "text_reset_line = CombineUppercase(text_by_line)\n",
    "text_reset_line = UppercaseNewline(text_reset_line,'\\n') #assign new line when an uppercase word is found\n",
    "text_reset_line = CombineUppercase(text_reset_line) #re-combine uppercase words together\n",
    "\n",
    "# remove extra white spaces\n",
    "text_reset_line = [' '.join([y for y in re.split(' ',w) if not y=='']) for w in text_reset_line]\n",
    "# remove empty lines\n",
    "text_reset_line = [w for w in text_reset_line if not w=='']"
   ]
  },
  {
   "cell_type": "code",
   "execution_count": 4,
   "metadata": {},
   "outputs": [
    {
     "data": {
      "text/plain": [
       "['MEDICAL HELP NUCLEAR RADIOLOGIC TECH',\n",
       " 'full time day po ition is available for registred or registry technician in our Nuclear Medicine department This position does require taking call',\n",
       " 'CHEST PHYSICAL THERAPIST',\n",
       " 'If you are or registry eligible',\n",
       " 'Physical Trhrapist interested in Chest',\n",
       " 'Therapy consider the New England Baptist Hospital Responsibilities will include providng chest therapy for Medical Surgical patients family teaching interdisciplinary inservice programs and more',\n",
       " 'For more information please contact our Personnel department 738-5800 , Ext 255 . An Equal Opportunity Employer',\n",
       " '41 Pa',\n",
       " 'HII',\n",
       " 'Boston',\n",
       " 'MANAGER OF PRIMARY CARE PROGRAMS',\n",
       " \"Children's Hospital Medical Center\",\n",
       " 'seeks dynamic creative individual to manage its Primary Care Programs including 24-hour Emergency Room Primary Care program the Massachusetts Poison information Center and',\n",
       " 'Dental services This position requires 3-5 years experience with background in planning budgeting and managing',\n",
       " 'health programs Masters degree preferred but additional experience may be substituted We offer salary commensurate',\n",
       " 'with experience and fine fringe benefits package',\n",
       " 'please forward resumes to Helena Wallace personnel office',\n",
       " 'MEDICAL',\n",
       " '300 Lonjwood Avenue',\n",
       " 'MA 0211 REGISTERED REGISTRY ELIGIBLE OR',\n",
       " 'immi ate available in our modern well- and fu ly accredited 173-bed general hospital Cheshire Hospilal is 80 miles from Boston and near skiing water sports hunting and fishing',\n",
       " 'Apphcants must be registered registry eligible or',\n",
       " 'NERT',\n",
       " 'For further information please contact the Personrel department',\n",
       " 'Cheshire Hospital',\n",
       " '580 Court Street Keene NH 03431']"
      ]
     },
     "execution_count": 4,
     "metadata": {},
     "output_type": "execute_result"
    }
   ],
   "source": [
    "# print results\n",
    "text_reset_line"
   ]
  },
  {
   "cell_type": "markdown",
   "metadata": {},
   "source": [
    "## Detect job titles\n",
    "Next, we detect job titles by matching to a list of job title personal nouns. For instance, with the word \"THERAPIST\" in our list, we are able to detect \"CHEST PHYSICAL THERAPIST\" being a job title without having to specify all type of possible therapists.   "
   ]
  },
  {
   "cell_type": "code",
   "execution_count": 5,
   "metadata": {},
   "outputs": [
    {
     "name": "stdout",
     "output_type": "stream",
     "text": [
      "--- Examples of job title personal nouns ---\n",
      "['abstracter', 'abstracters', 'abstractor', 'abstractors', 'accounting', 'accountings', 'accountant', 'accountants', 'actor', 'actors', 'actress', 'actresses', 'actuarial', 'actuarials', 'actuaries']\n"
     ]
    }
   ],
   "source": [
    "# define indicators if job title detected\n",
    "title_found = '---titlefound---'\n",
    "\n",
    "# list of job title personal nouns\n",
    "TitleBaseFile = open('./auxiliary files/TitleBase.txt').read()\n",
    "TitleBaseList = [w for w in re.split('\\n',TitleBaseFile) if not w=='']\n",
    "print('--- Examples of job title personal nouns ---')\n",
    "print(TitleBaseList[:15]) "
   ]
  },
  {
   "cell_type": "code",
   "execution_count": 6,
   "metadata": {
    "collapsed": true
   },
   "outputs": [],
   "source": [
    "text_detect_title = ['']*len(text_reset_line)\n",
    "PreviousLineIsUppercaseTitle = False\n",
    "\n",
    "# assign a flag of '---titlefound---' to lines where we detect a job title\n",
    "\n",
    "for i in range(0,len(text_reset_line)):\n",
    "    line = text_reset_line[i]\n",
    "    line_no_hyphen = re.sub('-',' ',line.lower())\n",
    "    tokens = word_tokenize(line_no_hyphen)\n",
    "    \n",
    "    Match = list(set(tokens).intersection(TitleBaseList)) # see if the line has words in TitleBaseList \n",
    "        \n",
    "    if Match and DetermineUppercase(line): # uppercase job title\n",
    "        text_detect_title[i] = ' '.join([w for w in re.split(' ',line) if not w=='']) + title_found\n",
    "        # adding a flag that a title is found\n",
    "        # ' '.join([w for w in split(' ',line) if not w=='']) is to remove extra spaces from 'line'\n",
    "        PreviousLineIsUppercaseTitle = True\n",
    "    elif Match and len(tokens) <= 2:\n",
    "        # This line allows non-uppercase job titles\n",
    "        # It has to be short enough => less than or equal to 2 words.\n",
    "        # In addition, the previous line must NOT be a uppercase job title. \n",
    "        if PreviousLineIsUppercaseTitle == False:\n",
    "            text_detect_title[i] = ' '.join([w for w in re.split(' ',line) if not w=='']) + title_found\n",
    "            PreviousLineIsUppercaseTitle = False\n",
    "        else:\n",
    "            text_detect_title[i] = ' '.join([w for w in re.split(' ',line) if not w==''])\n",
    "            PreviousLineIsUppercaseTitle = False\n",
    "    else:\n",
    "        text_detect_title[i] = ' '.join([w for w in re.split(' ',line) if not w==''])\n",
    "        PreviousLineIsUppercaseTitle = False"
   ]
  },
  {
   "cell_type": "markdown",
   "metadata": {},
   "source": [
    "For this snippet of text, we are able to detect the following job titles:"
   ]
  },
  {
   "cell_type": "code",
   "execution_count": 7,
   "metadata": {},
   "outputs": [
    {
     "data": {
      "text/plain": [
       "['MEDICAL HELP NUCLEAR RADIOLOGIC TECH---titlefound---',\n",
       " 'CHEST PHYSICAL THERAPIST---titlefound---',\n",
       " 'MANAGER OF PRIMARY CARE PROGRAMS---titlefound---',\n",
       " 'MEDICAL---titlefound---']"
      ]
     },
     "execution_count": 7,
     "metadata": {},
     "output_type": "execute_result"
    }
   ],
   "source": [
    "[w for w in text_detect_title if re.findall(title_found,w)]"
   ]
  },
  {
   "cell_type": "markdown",
   "metadata": {},
   "source": [
    "## Detect addresses and ending phrases \n",
    "In this step, we detect addresses such as street names, zip codes, and phrases which tend to appear at the end of ads. Such phrases include \"An Equal Opportunity Employer\" and \"send resume.\" If we do, we assign a string \"---endingfound---\" to the end of the line.  "
   ]
  },
  {
   "cell_type": "code",
   "execution_count": 8,
   "metadata": {
    "collapsed": true
   },
   "outputs": [],
   "source": [
    "ending_found = '---endingfound---'\n",
    "text_assign_flag = list()\n",
    "\n",
    "# see \"detect_ending.py\"\n",
    "\n",
    "for line in text_detect_title:\n",
    "    AddressFound , EndingPhraseFound = AssignFlag(line)\n",
    "    if AddressFound == True or EndingPhraseFound == True:\n",
    "        text_assign_flag.append(line + ending_found)\n",
    "    else:\n",
    "        text_assign_flag.append(line)"
   ]
  },
  {
   "cell_type": "markdown",
   "metadata": {},
   "source": [
    "For this snippet of text, we are able to detect the following addresses and phrases:"
   ]
  },
  {
   "cell_type": "code",
   "execution_count": 9,
   "metadata": {},
   "outputs": [
    {
     "data": {
      "text/plain": [
       "['For more information please contact our Personnel department 738-5800 , Ext 255 . An Equal Opportunity Employer---endingfound---',\n",
       " '300 Lonjwood Avenue---endingfound---',\n",
       " '580 Court Street Keene NH 03431---endingfound---']"
      ]
     },
     "execution_count": 9,
     "metadata": {},
     "output_type": "execute_result"
    }
   ],
   "source": [
    "[w for w in text_assign_flag if re.findall(ending_found,w)]"
   ]
  },
  {
   "cell_type": "markdown",
   "metadata": {},
   "source": [
    "After detecting job titles, addresses and ending phrases, we end up with the following text: "
   ]
  },
  {
   "cell_type": "code",
   "execution_count": 10,
   "metadata": {},
   "outputs": [
    {
     "data": {
      "text/plain": [
       "['MEDICAL HELP NUCLEAR RADIOLOGIC TECH---titlefound---',\n",
       " 'full time day po ition is available for registred or registry technician in our Nuclear Medicine department This position does require taking call',\n",
       " 'CHEST PHYSICAL THERAPIST---titlefound---',\n",
       " 'If you are or registry eligible',\n",
       " 'Physical Trhrapist interested in Chest',\n",
       " 'Therapy consider the New England Baptist Hospital Responsibilities will include providng chest therapy for Medical Surgical patients family teaching interdisciplinary inservice programs and more',\n",
       " 'For more information please contact our Personnel department 738-5800 , Ext 255 . An Equal Opportunity Employer---endingfound---',\n",
       " '41 Pa',\n",
       " 'HII',\n",
       " 'Boston',\n",
       " 'MANAGER OF PRIMARY CARE PROGRAMS---titlefound---',\n",
       " \"Children's Hospital Medical Center\",\n",
       " 'seeks dynamic creative individual to manage its Primary Care Programs including 24-hour Emergency Room Primary Care program the Massachusetts Poison information Center and',\n",
       " 'Dental services This position requires 3-5 years experience with background in planning budgeting and managing',\n",
       " 'health programs Masters degree preferred but additional experience may be substituted We offer salary commensurate',\n",
       " 'with experience and fine fringe benefits package',\n",
       " 'please forward resumes to Helena Wallace personnel office',\n",
       " 'MEDICAL---titlefound---',\n",
       " '300 Lonjwood Avenue---endingfound---',\n",
       " 'MA 0211 REGISTERED REGISTRY ELIGIBLE OR',\n",
       " 'immi ate available in our modern well- and fu ly accredited 173-bed general hospital Cheshire Hospilal is 80 miles from Boston and near skiing water sports hunting and fishing',\n",
       " 'Apphcants must be registered registry eligible or',\n",
       " 'NERT',\n",
       " 'For further information please contact the Personrel department',\n",
       " 'Cheshire Hospital',\n",
       " '580 Court Street Keene NH 03431---endingfound---']"
      ]
     },
     "execution_count": 10,
     "metadata": {},
     "output_type": "execute_result"
    }
   ],
   "source": [
    "text_assign_flag"
   ]
  },
  {
   "cell_type": "markdown",
   "metadata": {},
   "source": [
    "## Assign boundaries\n",
    "Next, we assign boundaries by scanning from the beginning line:\n",
    "1. If we see a flag '---titlefound---', then we assign a split indicator **before** that line.\n",
    "2. If we see a flag '---endingfound---', then we assign a split indicator **after** that line."
   ]
  },
  {
   "cell_type": "code",
   "execution_count": 11,
   "metadata": {
    "collapsed": true
   },
   "outputs": [],
   "source": [
    "split_indicator = '---splithere---'\n",
    "split_by_title = list() \n",
    "split_posting = list()\n",
    "\n",
    "# -----split if title is found-----\n",
    "\n",
    "for line in text_assign_flag:\n",
    "    if re.findall(title_found,line):\n",
    "        #add a split indicator BEFORE the line with title \n",
    "        split_by_title.append(split_indicator + '\\n' + line)\n",
    "    else:\n",
    "        split_by_title.append(line) # if not found, just append the line back in \n",
    "            \n",
    "split_by_title = [w for w in re.split('\\n','\\n'.join(split_by_title)) if not w=='']"
   ]
  },
  {
   "cell_type": "code",
   "execution_count": 12,
   "metadata": {
    "collapsed": true
   },
   "outputs": [],
   "source": [
    "# -----split if any ending phrase and/or address is found-----\n",
    "\n",
    "for line in split_by_title:\n",
    "    line_remove_ending_found = re.sub(ending_found,'',line) #remove the ending flag\n",
    "    if re.findall(ending_found,line):\n",
    "        #add a split indicator AFTER the line where the pattern is found\n",
    "        split_posting.append( line_remove_ending_found + '\\n' + split_indicator)\n",
    "    else:\n",
    "        split_posting.append( line_remove_ending_found ) # if not found, just append the line back in \n",
    "\n",
    "# after assigning the split indicators, we can use python command to split the ads.        \n",
    "split_posting = [w for w in re.split(split_indicator,'\\n'.join(split_posting)) if not w=='']"
   ]
  },
  {
   "cell_type": "markdown",
   "metadata": {},
   "source": [
    "After assigning boundaires, we end up with the following text:"
   ]
  },
  {
   "cell_type": "code",
   "execution_count": 13,
   "metadata": {},
   "outputs": [
    {
     "name": "stdout",
     "output_type": "stream",
     "text": [
      "MEDICAL HELP NUCLEAR RADIOLOGIC TECH---titlefound---full time day po ition is available for registred or registry technician in our Nuclear Medicine department This position does require taking call\n",
      "---splithere---\n",
      "CHEST PHYSICAL THERAPIST---titlefound---If you are or registry eligiblePhysical Trhrapist interested in ChestTherapy consider the New England Baptist Hospital Responsibilities will include providng chest therapy for Medical Surgical patients family teaching interdisciplinary inservice programs and moreFor more information please contact our Personnel department 738-5800 , Ext 255 . An Equal Opportunity Employer\n",
      "---splithere---\n",
      "41 PaHIIBoston\n",
      "---splithere---\n",
      "MANAGER OF PRIMARY CARE PROGRAMS---titlefound---Children's Hospital Medical Centerseeks dynamic creative individual to manage its Primary Care Programs including 24-hour Emergency Room Primary Care program the Massachusetts Poison information Center andDental services This position requires 3-5 years experience with background in planning budgeting and managinghealth programs Masters degree preferred but additional experience may be substituted We offer salary commensuratewith experience and fine fringe benefits packageplease forward resumes to Helena Wallace personnel office\n",
      "---splithere---\n",
      "MEDICAL---titlefound---300 Lonjwood Avenue\n",
      "---splithere---\n",
      "MA 0211 REGISTERED REGISTRY ELIGIBLE ORimmi ate available in our modern well- and fu ly accredited 173-bed general hospital Cheshire Hospilal is 80 miles from Boston and near skiing water sports hunting and fishingApphcants must be registered registry eligible orNERTFor further information please contact the Personrel departmentCheshire Hospital580 Court Street Keene NH 03431\n",
      "---splithere---\n"
     ]
    }
   ],
   "source": [
    "for ad in split_posting:\n",
    "    print(re.sub('\\n','',ad)) #print out each ad, ignoring the line break indicators. \n",
    "    print('---splithere---')"
   ]
  },
  {
   "cell_type": "markdown",
   "metadata": {},
   "source": [
    "## Construct a spreadsheet dataset\n",
    "Finally, we construct a spreadsheet with the following variables:\n",
    "1. *page_identifier* : We recover this information in the previous step. For this illustration, we take text from Display Ad page 226, from the January 14, 1979 Boston Globe (Globe_displayad_19790114_226)\n",
    "2. *ad_num* : Ad number within a page\n",
    "3. *job_title* : Job title of that particular ad (equals empty string if the ad has no title).\n",
    "4. *ad_content* : Posting content"
   ]
  },
  {
   "cell_type": "code",
   "execution_count": 14,
   "metadata": {
    "collapsed": true
   },
   "outputs": [],
   "source": [
    "all_flag = re.compile('|'.join([title_found,ending_found]))\n",
    "\n",
    "num_ad = 0 #initialize ad number within displayad\n",
    "\n",
    "final_output = list()\n",
    "\n",
    "for ad in split_posting:\n",
    "    \n",
    "    ad_split_line = [w for w in re.split('\\n',ad) if not w=='']\n",
    "        \n",
    "    # --------- record title ----------\n",
    "\n",
    "    title_this_ad = [w for w in ad_split_line if re.findall(title_found,w)] \n",
    "    #see if any line is a title\n",
    "            \n",
    "    if len(title_this_ad) == 1: #if we do have a title\n",
    "        title_clean = re.sub(all_flag,'',title_this_ad[0].lower()) \n",
    "        #take out the flags and revert to lowercase\n",
    "\n",
    "        title_clean = ' '.join([y for y in re.split(' ',title_clean) if not y==''])\n",
    "    else:\n",
    "        title_clean = ''\n",
    "\n",
    "    # --------- record content ----------\n",
    "        \n",
    "    ad_content = [w for w in ad_split_line if not re.findall(title_found,w)] # take out lines with title\n",
    "    ad_content = ' '.join([w for w in ad_content if not w==''])\n",
    "    #delete empty lines + combine all the line together (within an ad)\n",
    "        \n",
    "    ad_content = re.sub(all_flag,'',ad_content) \n",
    "    #take out all the flags\n",
    "\n",
    "    # --------- record output ----------\n",
    "\n",
    "    num_ad += 1\n",
    "    output = [str(page_identifier),str(num_ad),str(title_clean),str(ad_content)]    \n",
    "    final_output.append( '|'.join(output) )\n",
    "\n",
    "# final output     \n",
    "final_output_file = open('structured_data.txt','w')\n",
    "final_output_file.write('\\n'.join(final_output))\n",
    "final_output_file.close()"
   ]
  },
  {
   "cell_type": "code",
   "execution_count": 15,
   "metadata": {},
   "outputs": [
    {
     "name": "stdout",
     "output_type": "stream",
     "text": [
      "Globe_displayad_19790114_226|1|medical help nuclear radiologic tech|full time day po ition is available for registred or registry technician in our Nuclear Medicine department This position does require taking call\n",
      "Globe_displayad_19790114_226|2|chest physical therapist|If you are or registry eligible Physical Trhrapist interested in Chest Therapy consider the New England Baptist Hospital Responsibilities will include providng chest therapy for Medical Surgical patients family teaching interdisciplinary inservice programs and more For more information please contact our Personnel department 738-5800 , Ext 255 . An Equal Opportunity Employer\n",
      "Globe_displayad_19790114_226|3||41 Pa HII Boston\n",
      "Globe_displayad_19790114_226|4|manager of primary care programs|Children's Hospital Medical Center seeks dynamic creative individual to manage its Primary Care Programs including 24-hour Emergency Room Primary Care program the Massachusetts Poison information Center and Dental services This position requires 3-5 years experience with background in planning budgeting and managing health programs Masters degree preferred but additional experience may be substituted We offer salary commensurate with experience and fine fringe benefits package please forward resumes to Helena Wallace personnel office\n",
      "Globe_displayad_19790114_226|5|medical|300 Lonjwood Avenue\n",
      "Globe_displayad_19790114_226|6||MA 0211 REGISTERED REGISTRY ELIGIBLE OR immi ate available in our modern well- and fu ly accredited 173-bed general hospital Cheshire Hospilal is 80 miles from Boston and near skiing water sports hunting and fishing Apphcants must be registered registry eligible or NERT For further information please contact the Personrel department Cheshire Hospital 580 Court Street Keene NH 03431\n"
     ]
    }
   ],
   "source": [
    "# print out final output\n",
    "structured_posting = open('structured_data.txt').read()\n",
    "structured_posting = re.split('\\n',structured_posting)\n",
    "for ad in structured_posting:\n",
    "    print(ad)"
   ]
  }
 ],
 "metadata": {
  "kernelspec": {
   "display_name": "Python 3",
   "language": "python",
   "name": "python3"
  },
  "language_info": {
   "codemirror_mode": {
    "name": "ipython",
    "version": 3
   },
   "file_extension": ".py",
   "mimetype": "text/x-python",
   "name": "python",
   "nbconvert_exporter": "python",
   "pygments_lexer": "ipython3",
   "version": "3.6.1"
  }
 },
 "nbformat": 4,
 "nbformat_minor": 1
}
