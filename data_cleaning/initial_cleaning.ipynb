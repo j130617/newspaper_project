{
 "cells": [
  {
   "cell_type": "markdown",
   "metadata": {},
   "source": [
    "# The Initial Text Cleaning\n",
    "Online supplementary material to \"The Evolution of Work in the United States\" by Enghin Atalay, Phai Phongthiengtham, Sebastian Sotelo and Daniel Tannenbaum. \n",
    "\n",
    "* [Project data library](https://occupationdata.github.io) \n",
    "\n",
    "* [GitHub repository](https://github.com/phaiptt125/newspaper_project)\n",
    "\n",
    "***"
   ]
  },
  {
   "cell_type": "markdown",
   "metadata": {},
   "source": [
    "This IPython notebook demonstrates initial processing of the raw text, provided by ProQuest. The main components of this step are to retrieve document metadata, to remove markup from the newspaper text, and to perform an initial spell-check of the text."
   ]
  },
  {
   "cell_type": "markdown",
   "metadata": {},
   "source": [
    "<b> Due to copyright restrictions, we are not authorized to publish a large body of newspaper text. </b>\n",
    "***"
   ]
  },
  {
   "cell_type": "markdown",
   "metadata": {},
   "source": [
    "## List of auxiliary files (see project data library or GitHub repository)"
   ]
  },
  {
   "cell_type": "markdown",
   "metadata": {},
   "source": [
    "* *extract_information* : This python code removes markup and extract relevant information.\n",
    "* *edit_distance.py* : This python code computes string edit distance, used in the spelling correction procedure.\n",
    "* *OCRcorrect_enchant.py* : This python code performs basic word-by-word spelling error correction.\n",
    "* *PWL.txt* : This file contains words such as software and state names that are not contained in the dictionary provided by python's enchant module.\n",
    "***"
   ]
  },
  {
   "cell_type": "markdown",
   "metadata": {},
   "source": [
    "## Import python modules"
   ]
  },
  {
   "cell_type": "code",
   "execution_count": 1,
   "metadata": {
    "collapsed": true
   },
   "outputs": [],
   "source": [
    "import os\n",
    "import re\n",
    "import sys\n",
    "import enchant #spelling correction module\n",
    "\n",
    "sys.path.append('./auxiliary files')\n",
    "\n",
    "from extract_information import *\n",
    "from edit_distance import *\n",
    "from OCRcorrect_enchant import *"
   ]
  },
  {
   "cell_type": "markdown",
   "metadata": {},
   "source": [
    "## Import raw text file\n",
    "\n",
    "ProQuest has provided us with text files which have been transcribed from scanned images of newspaper pages. The file 'ad_sample.txt', as shown below, is one of these text files. ProQuest only provided us with the information that this file belongs to a page of Wall Street Journal.     "
   ]
  },
  {
   "cell_type": "code",
   "execution_count": 2,
   "metadata": {},
   "outputs": [
    {
     "name": "stdout",
     "output_type": "stream",
     "text": [
      "<?xml version=\"1.0\" encoding=\"UTF-8\"?><record> <version>  TDM_Record_v1.0.xsd </version> <recordid>  4a667155d557ab68c878224bc3de0979 </recordid> <recordtitle>  Classified Ad 45 -- No Title </recordtitle> <alphapubdate>  Sep 12, 1978 </alphapubdate> <numericpubdate>  19780912 </numericpubdate> <objecttype>  classified_ad </objecttype> <objecttype>  Classified Advertisement </objecttype> <objecttype>  Advertisement </objecttype> <copyright>  Copyright Dow Jones &amp; Company Inc Sep 12, 1978 </copyright> <languagecode>  English </languagecode> <groupid>  506733 </groupid> <pubid>  45441 </pubid> <pubtitle>  Wall Street Journal  (1923 - Current file) </pubtitle> <fulltext>  &amp;lt;html&amp;gt;             &amp;lt;head&amp;gt;               &amp;lt;meta name=&amp;quot;ValidationSchema&amp;quot; content=&amp;quot;http://www.w3.org/2002/08/xhtml/xhtml1-strict.xsd&amp;quot;/&amp;gt;               &amp;lt;title/&amp;gt;             &amp;lt;/head&amp;gt;             &amp;lt;body&amp;gt;               &amp;lt;p&amp;gt; Singer has long been one of the world s gr &amp;apos; pacesetters in volume manufacturing of intricate, &amp;lt;/p&amp;gt;               &amp;lt;p&amp;gt; precision machines that achieve extreme reliability and durability. Our sewing machines are in use around the globe in every kind of climate. As pioneers in electronic sewing machines, we have again set new standards. &amp;lt;/p&amp;gt;               &amp;lt;p&amp;gt; ELECTROMECHANICAL ENGINEERS, &amp;lt;/p&amp;gt;               &amp;lt;p&amp;gt; Minimum of 6 eara experience in developing of electromechanical consumer or atm&amp;amp;gt;lar products. BSME or BSEE degree required, &amp;lt;/p&amp;gt;               &amp;lt;p&amp;gt; advanced degree preferred. &amp;lt;/p&amp;gt;               &amp;lt;p&amp;gt; ELECTRONIC ENGINEERS MECHANICAL ENGINEERS &amp;lt;/p&amp;gt;               &amp;lt;p&amp;gt; A least 2+ years is needed in one of 2+ years of practical in mechanisms the following areas: and machine design analysis. Working know! edga of computers as a design tool would be &amp;lt;/p&amp;gt;               &amp;lt;p&amp;gt; 1) Analog and digital industrial electron helpful. Experience in sophisticated , with microprocessor and CAD knowl chanical products. Background should include edge desirable; mechanism or gear or machine design 2) Analog sad digital circuitry, logic de and analysis. Knowledge of computers as , PC bond design, ISI and minicom neering ardes helpful &amp;lt;/p&amp;gt;               &amp;lt;p&amp;gt; puter ; &amp;lt;/p&amp;gt;               &amp;lt;p&amp;gt; S) Application of mini and micro-computers including , and hardware de- &amp;lt;/p&amp;gt;               &amp;lt;p&amp;gt; bugging of analog and digital circuitry. &amp;lt;/p&amp;gt;               &amp;lt;p&amp;gt; DESIGNERS, JUNIOR SPECIALIST AND SENIOR &amp;lt;/p&amp;gt;               &amp;lt;p&amp;gt; Ezperience in fractional and AC 1-8 Years experience in precision high toler _ and DC motors and motor control system as ante design of mechanical devices and/or circuit well as other electromechanical devices. layout. Intricate detailing experience mandato- &amp;lt;/p&amp;gt;               &amp;lt;p&amp;gt; ry. Singer offers attractive salaries, benefits and professional working conditions, and very favorable career . These positions are located at our Elizabeth, New Jersey facility and at our R&amp;amp;amp;D Laboratory in Fairfield, New Jersey. &amp;lt;/p&amp;gt;               &amp;lt;p&amp;gt; Please send resume stating position of interest in confidence to: &amp;lt;/p&amp;gt;               &amp;lt;p&amp;gt; Hosie Scott, Employment Manager &amp;lt;/p&amp;gt;               &amp;lt;p&amp;gt; or call (201) 527-6166 or 67 &amp;lt;/p&amp;gt;               &amp;lt;p&amp;gt; SINGER &amp;lt;/p&amp;gt;               &amp;lt;p&amp;gt; DIVERSIFIED WORL. 321 First Street &amp;lt;/p&amp;gt;               &amp;lt;p&amp;gt; Elizabeth, New Jersey 07207 An Equal Opportunity Employer M/F &amp;lt;/p&amp;gt;             &amp;lt;/body&amp;gt;           &amp;lt;/html&amp;gt; </fulltext></record>\n"
     ]
    }
   ],
   "source": [
    "# input files\n",
    "input_file = 'ad_sample.txt'\n",
    "\n",
    "# bring in raw ads \n",
    "raw_ad = open(input_file).read()\n",
    "print(raw_ad)"
   ]
  },
  {
   "cell_type": "markdown",
   "metadata": {},
   "source": [
    "***\n",
    "Relevant information we have to extract is:\n",
    "\n",
    "1. publication date - \"19780912\" (September 12, 1978)\n",
    "2. page title - \"Classified Ad 45\" (classified ad, page 45)\n",
    "3. content - all text in the \"fulltext\" field\n",
    "\n",
    "Fortunately, job ads appear only in either \"Display Ad\" or \"Classified Ad\" pages. As such, we only need to include pages that are either \"Display Ad\" or \"Classified Ad\" in this step."
   ]
  },
  {
   "cell_type": "markdown",
   "metadata": {},
   "source": [
    "However, not all pages in \"Display Ad\" or \"Classified Ad\" are job ads. The next step, as demonstated in the next IPython notebook [here](https://github.com/phaiptt125/newspaper_project/blob/master/data_cleaning/LDA.ipynb), is to use Latent Dirichlet Allocation (LDA) procedure to idenfity which pages are job ads."
   ]
  },
  {
   "cell_type": "markdown",
   "metadata": {},
   "source": [
    "## Assign unique page identifier\n",
    "* Assign a unique identifier for each newpaper page that is either Display Ad or Classified Ad."
   ]
  },
  {
   "cell_type": "code",
   "execution_count": 3,
   "metadata": {},
   "outputs": [
    {
     "name": "stdout",
     "output_type": "stream",
     "text": [
      "WSJ_classifiedad_19780912_45\n"
     ]
    }
   ],
   "source": [
    "page_identifier = AssignPageIdentifier(raw_ad, 'WSJ') # see extract_information.py\n",
    "print(page_identifier)"
   ]
  },
  {
   "cell_type": "markdown",
   "metadata": {},
   "source": [
    "The value \"WSJ_classifiedad_19780912_45\" refers to the 45th page of classified ads in the September 12, 1978 edition of the Wall Street Journal.\n",
    "\n",
    "## Extract posting and remove markup"
   ]
  },
  {
   "cell_type": "code",
   "execution_count": 4,
   "metadata": {},
   "outputs": [
    {
     "name": "stdout",
     "output_type": "stream",
     "text": [
      "\n",
      " Singer has long been one of the world s gr ' pacesetters in volume manufacturing of intricate , \n",
      " \n",
      " precision machines that achieve extreme reliability and durability . Our sewing machines are in use around the globe in every kind of climate . As pioneers in electronic sewing machines , we have again set new standards . \n",
      " \n",
      " ELECTROMECHANICAL ENGINEERS , \n",
      " \n",
      " Minimum of 6 eara experience in developing of electromechanical consumer or atmlar products . BSME or BSEE degree required , \n",
      " \n",
      " advanced degree preferred . \n",
      " \n",
      " ELECTRONIC ENGINEERS MECHANICAL ENGINEERS \n",
      " \n",
      " A least 2+ years is needed in one of 2+ years of practical in mechanisms the following areas: and machine design analysis . Working know ! edga of computers as a design tool would be \n",
      " \n",
      " 1 ) Analog and digital industrial electron helpful . Experience in sophisticated , with microprocessor and CAD knowl chanical products . Background should include edge desirable ; mechanism or gear or machine design 2 ) Analog sad digital circuitry , logic de and analysis . Knowledge of computers as , PC bond design , ISI and minicom neering ardes helpful \n",
      " \n",
      " puter ; \n",
      " \n",
      " S ) Application of mini and micro-computers including , and hardware de- \n",
      " \n",
      " bugging of analog and digital circuitry . \n",
      " \n",
      " DESIGNERS , JUNIOR SPECIALIST AND SENIOR \n",
      " \n",
      " Ezperience in fractional and AC 1-8 Years experience in precision high toler and DC motors and motor control system as ante design of mechanical devices and or circuit well as other electromechanical devices . layout . Intricate detailing experience mandato- \n",
      " \n",
      " ry . Singer offers attractive salaries , benefits and professional working conditions , and very favorable career . These positions are located at our Elizabeth , New Jersey facility and at our R ; D Laboratory in Fairfield , New Jersey . \n",
      " \n",
      " Please send resume stating position of interest in confidence to: \n",
      " \n",
      " Hosie Scott , Employment Manager \n",
      " \n",
      " or call ( 201 ) 527-6166 or 67 \n",
      " \n",
      " SINGER \n",
      " \n",
      " DIVERSIFIED WORL . 321 First Street \n",
      " \n",
      " Elizabeth , New Jersey 07207 An Equal Opportunity Employer M F \n",
      "\n"
     ]
    }
   ],
   "source": [
    "# extract <fulltext> field \n",
    "fulltext = ExtractElement(raw_ad,'fulltext') # see extract_information.py\n",
    "# remove xml markups\n",
    "posting = CleanXML(fulltext) # see extract_information.py\n",
    "print(posting)"
   ]
  },
  {
   "cell_type": "markdown",
   "metadata": {},
   "source": [
    "## Perform basic spelling error correction, remove extra spaces and empty lines "
   ]
  },
  {
   "cell_type": "code",
   "execution_count": 5,
   "metadata": {},
   "outputs": [
    {
     "name": "stdout",
     "output_type": "stream",
     "text": [
      "Singer has long been one of the world s gr ' pacesetters in volume manufacturing of intricate ,\n",
      "precision machines that achieve extreme reliability and durability . Our sewing machines are in use around the globe in every kind of climate . As pioneers in electronic sewing machines , we have again set new standards .\n",
      "ELECTROMECHANICAL ENGINEERS ,\n",
      "Minimum of 6 Meara experience in developing of electromechanical consumer or atmlar products . BSME or B SEE degree required ,\n",
      "advanced degree preferred .\n",
      "ELECTRONIC ENGINEERS MECHANICAL ENGINEERS\n",
      "A least 2+ years is needed in one of 2+ years of practical in mechanisms the following areas and machine design analysis . Working know ! Edgar of computers as a design tool would be\n",
      "1 ) Analog and digital industrial electron helpful . Experience in sophisticated , with microprocessor and CAD kn owl mechanical products . Background should include edge desirable ; mechanism or gear or machine design 2 ) Analog sad digital circuitry , logic de and analysis . Knowledge of computers as , PC bond design , IS I and mini com sneering ares helpful\n",
      "pouter ;\n",
      "S ) Application of mini and microcomputers including , and hardware de-\n",
      "bugging of analog and digital circuitry .\n",
      "DESIGNERS , JUNIOR SPECIALIST AND SENIOR\n",
      "Experience in fractional and AC 1-8 Years experience in precision high tooler and DC motors and motor control system as ante design of mechanical devices and or circuit well as other electromechanical devices . layout . Intricate detailing experience mandatory\n",
      "ry . Singer offers attractive salaries , benefits and professional working conditions , and very favorable career . These positions are located at our Elizabeth , New Jersey facility and at our R ; D Laboratory in Fairfield , New Jersey .\n",
      "Please send resume stating position of interest in confidence to:\n",
      "Hosier Scott , Employment Manager\n",
      "or call ( 201 ) 527-6166 or 67\n",
      "SINGER\n",
      "DIVERSIFIED WHORL . 321 First Street\n",
      "Elizabeth , New Jersey 07207 An Equal Opportunity Employer M F\n"
     ]
    }
   ],
   "source": [
    "posting_by_line = [w for w in re.split('\\n',posting) if len(w)>0] \n",
    "clean_posting_by_line = list()\n",
    "        \n",
    "for line in posting_by_line:\n",
    "    clean_line = line\n",
    "    # spelling error correction\n",
    "    clean_line = EnchantErrorCorrection(clean_line, 'PWL.txt')\n",
    "    # remove extra white spaces\n",
    "    clean_line = ' '.join([w for w in re.split(' ',clean_line) if not w==''])  \n",
    "    clean_posting_by_line.append(clean_line)\n",
    "\n",
    "# remove empty lines\n",
    "clean_posting_by_line = [w for w in clean_posting_by_line if not w=='']\n",
    "\n",
    "# print final output of this step\n",
    "print('\\n'.join(clean_posting_by_line))"
   ]
  },
  {
   "cell_type": "markdown",
   "metadata": {},
   "source": [
    "The final output of this step is the variable \"clean_posting_by_line\". The next step, as demonstated in the next IPython notebook [here](https://github.com/phaiptt125/newspaper_project/blob/master/data_cleaning/LDA.ipynb), is to use Latent Dirichlet Allocation (LDA) procedure to idenfity which pages are job ads. "
   ]
  }
 ],
 "metadata": {
  "kernelspec": {
   "display_name": "Python 3",
   "language": "python",
   "name": "python3"
  },
  "language_info": {
   "codemirror_mode": {
    "name": "ipython",
    "version": 3
   },
   "file_extension": ".py",
   "mimetype": "text/x-python",
   "name": "python",
   "nbconvert_exporter": "python",
   "pygments_lexer": "ipython3",
   "version": "3.6.1"
  }
 },
 "nbformat": 4,
 "nbformat_minor": 1
}
